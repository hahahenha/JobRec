{
 "cells": [
  {
   "cell_type": "code",
   "execution_count": 1,
   "id": "da5f49cc-1ca4-47ed-9943-fae3287d32d0",
   "metadata": {},
   "outputs": [],
   "source": [
    "import os.path\n",
    "import tensorboardX\n",
    "from tqdm import tqdm\n",
    "import torch\n",
    "import numpy as np\n",
    "from torch import nn\n",
    "import torch.distributed as dist\n",
    "from torch.nn.parallel import DistributedDataParallel as DDP\n",
    "from torch.utils.data import Dataset, DataLoader, DistributedSampler\n",
    "from model.HGNN import HGNN\n",
    "from utils.dataset import JobDataset\n",
    "from utils.metrics import *"
   ]
  },
  {
   "cell_type": "code",
   "execution_count": 2,
   "id": "3892844d-a1ca-4dd6-ad2e-9f468101ca30",
   "metadata": {},
   "outputs": [],
   "source": [
    "def train(args):\n",
    "    # set random seed\n",
    "    torch.cuda.manual_seed_all(args.seed)\n",
    "    torch.manual_seed(args.seed)\n",
    "    np.random.seed(args.seed)\n",
    "\n",
    "    train_loader = DataLoader(JobDataset(root=\"/individual/xxx/train/sample\",top_k=args.top_k, val_prop=args.val_prop), batch_size=args.batch_size, shuffle=True, num_workers=0)\n",
    "    test_loader = DataLoader(JobDataset(root=\"/individual/xxx/test/sample\",top_k=args.top_k, mode='test', val_prop=args.val_prop), batch_size=args.batch_size, shuffle=True, num_workers=0)\n",
    "    in_channels = 0\n",
    "    out_channels = args.n_hid\n",
    "    ncount = 0\n",
    "    for i, data in enumerate(train_loader):\n",
    "        phi1 = data['phi1']\n",
    "        phi1_inv = data['phi1_inverse']\n",
    "        phi2 = data['phi2']\n",
    "        phi2_inv = data['phi2_inverse']\n",
    "        fea = data['Fea']\n",
    "        joblst = data['joblst']\n",
    "        label = data['label']\n",
    "        in_channels = fea.shape[-1]\n",
    "        ncount = phi1.shape[-1]\n",
    "        break\n",
    "\n",
    "\n",
    "    model = HGNN(in_channels, out_channels, ncount, args.device, args.top_k)\n",
    "    if args.device != 'cpu':\n",
    "        model = model.to(args.device)\n",
    "\n",
    "    loss_func = nn.CrossEntropyLoss()\n",
    "\n",
    "    optimizer = torch.optim.Adam(model.parameters(),\n",
    "                                      lr=args.lr,\n",
    "                                      weight_decay=args.weight_decay)\n",
    "\n",
    "    scheduler = torch.optim.lr_scheduler.StepLR(optimizer, step_size=args.stepsize, gamma=args.gamma)\n",
    "\n",
    "    model_path = './save_models/'\n",
    "    log_path = './logs'\n",
    "    if not os.path.exists(model_path):\n",
    "        os.makedirs(model_path)\n",
    "    elif os.path.exists(model_path + 'parameter.pkl'):\n",
    "        model.load_state_dict(torch.load(model_path + 'parameter.pkl'))\n",
    "    if not os.path.exists(log_path):\n",
    "        os.makedirs(log_path)\n",
    "    writer = tensorboardX.SummaryWriter(log_path)\n",
    "\n",
    "    step_n = 0\n",
    "    best_hr = 0.0\n",
    "    best_mrr = 0.0\n",
    "    for epoch in range(args.n_epoch):\n",
    "#         print(\"epoch is:\", epoch)\n",
    "        model.train()\n",
    "\n",
    "        progress_bar = tqdm(enumerate(train_loader), total=len(train_loader), desc=f\"Epoch {epoch + 1}\")\n",
    "        for batch_idx, data in progress_bar: # tqdm(train_loader, desc=f\"Epoch {epoch+1}\"):\n",
    "            phi1 = data['phi1']\n",
    "            phi1_inv = data['phi1_inverse']\n",
    "            phi2 = data['phi2']\n",
    "            phi2_inv = data['phi2_inverse']\n",
    "            fea = data['Fea']\n",
    "            joblst = data['joblst']\n",
    "            label = data['label']\n",
    "            # label = label.unsqueeze(1)\n",
    "\n",
    "            if args.device != 'cpu':\n",
    "                phi1 = phi1.to(args.device)\n",
    "                phi1_inv = phi1_inv.to(args.device)\n",
    "                phi2 = phi2.to(args.device)\n",
    "                phi2_inv = phi2_inv.to(args.device)\n",
    "                fea = fea.to(args.device)\n",
    "                joblst = joblst.to(args.device)\n",
    "                label = label.to(args.device)\n",
    "\n",
    "            output = model.forward(phi1, phi1_inv, phi2, phi2_inv, fea, joblst)\n",
    "            # print('main output shape:', output.shape)\n",
    "            # print('main label shape:', label.shape)\n",
    "            # print(label)\n",
    "            loss = loss_func(output, label)\n",
    "            optimizer.zero_grad()\n",
    "            loss.backward()\n",
    "            optimizer.step()\n",
    "\n",
    "            _, pred = torch.max(output.data, dim=1)\n",
    "            correct = pred.eq(label.data).cpu().sum()\n",
    "\n",
    "            writer.add_scalar(\"train loss\", loss.item(), global_step=step_n)\n",
    "            writer.add_scalar(\"train correct\", 100.0 * correct.item() / args.batch_size, global_step=step_n)\n",
    "            progress_bar.set_description(f\"Epoch {epoch + 1} loss={round(loss.item(), 8)}\")\n",
    "            step_n += 1\n",
    "\n",
    "        scheduler.step()\n",
    "\n",
    "        sum_loss = 0\n",
    "        model.eval()\n",
    "        hit_rates = []\n",
    "        average_precisions = []\n",
    "        precisions = []\n",
    "        recalls = []\n",
    "        f1_scores = []\n",
    "        mrrs = []\n",
    "        ndcgs = []\n",
    "        for i, data in enumerate(test_loader):\n",
    "            phi1 = data['phi1']\n",
    "            phi1_inv = data['phi1_inverse']\n",
    "            phi2 = data['phi2']\n",
    "            phi2_inv = data['phi2_inverse']\n",
    "            fea = data['Fea']\n",
    "            joblst = data['joblst']\n",
    "            label = data['label']\n",
    "\n",
    "            if args.device != 'cpu':\n",
    "                phi1 = phi1.to(args.device)\n",
    "                phi1_inv = phi1_inv.to(args.device)\n",
    "                phi2 = phi2.to(args.device)\n",
    "                phi2_inv = phi2_inv.to(args.device)\n",
    "                fea = fea.to(args.device)\n",
    "                joblst = joblst.to(args.device)\n",
    "                label = label.to(args.device)\n",
    "\n",
    "            output = model(phi1, phi1_inv, phi2, phi2_inv, fea, joblst)\n",
    "            loss = loss_func(output, label)\n",
    "            _, pred = torch.max(output.data, dim=1)\n",
    "\n",
    "            for i in range(pred.shape[0]):\n",
    "                recommended_items = pred.tolist()[i]\n",
    "                test_items = label.tolist()[i]\n",
    "                hit_rates.append(hit_rate(recommended_items, test_items))\n",
    "                average_precisions.append(average_precision(recommended_items, test_items))\n",
    "                pre = precision(recommended_items, test_items)\n",
    "                rec = recall(recommended_items, test_items)\n",
    "                precisions.append(pre)\n",
    "                recalls.append(rec)\n",
    "                f1_scores.append(f1_score(pre, rec))\n",
    "                mrrs.append(mean_reciprocal_rank(recommended_items, test_items))\n",
    "                ndcgs.append(ndcg(recommended_items, test_items))\n",
    "\n",
    "            sum_loss += loss.item()\n",
    "        test_loss = sum_loss * 1.0 / len(test_loader)\n",
    "\n",
    "        # 计算总体指标\n",
    "        overall_mrr = np.mean(mrrs)\n",
    "        overall_hr = np.mean(hit_rates)\n",
    "\n",
    "        writer.add_scalar(\"test loss\", test_loss, global_step=epoch + 1)\n",
    "        writer.add_scalar(\"test Mean Reciprocal Rank\", overall_mrr, global_step=epoch + 1)\n",
    "        writer.add_scalar(\"test Hit Rate\", overall_hr, global_step=epoch + 1)\n",
    "        \n",
    "        flag = False\n",
    "        if best_hr < overall_hr:\n",
    "            best_hr = overall_hr\n",
    "            flag = True\n",
    "        if best_mrr < overall_mrr:\n",
    "            best_mrr = overall_mrr\n",
    "            flag = True\n",
    "        \n",
    "        if flag:\n",
    "            print(\"Best Hit Rate is\", best_hr, 'Best Mean Reciprocal Rank:', best_mrr)\n",
    "    return"
   ]
  },
  {
   "cell_type": "code",
   "execution_count": null,
   "id": "d2cd0fed-1d0a-4ed7-b676-1c394ede1047",
   "metadata": {},
   "outputs": [
    {
     "name": "stdout",
     "output_type": "stream",
     "text": [
      "\tDensity of wavelets: 3.58%.\n",
      "\tDensity of inverse wavelets: 8.21%.\n"
     ]
    },
    {
     "name": "stderr",
     "output_type": "stream",
     "text": [
      "Epoch 1 loss=5.93408679: 100%|██████████| 277/277 [21:34<00:00,  4.67s/it]\n"
     ]
    },
    {
     "name": "stdout",
     "output_type": "stream",
     "text": [
      "Best Hit Rate is 0.4766734279918864 Best Mean Reciprocal Rank: 0.0982420554428668\n"
     ]
    },
    {
     "name": "stderr",
     "output_type": "stream",
     "text": [
      "Epoch 2 loss=5.94997396: 100%|██████████| 277/277 [00:35<00:00,  7.76it/s]\n"
     ]
    },
    {
     "name": "stdout",
     "output_type": "stream",
     "text": [
      "Best Hit Rate is 0.4766734279918864 Best Mean Reciprocal Rank: 0.12547087800637496\n"
     ]
    },
    {
     "name": "stderr",
     "output_type": "stream",
     "text": [
      "Epoch 3 loss=5.99494587: 100%|██████████| 277/277 [00:36<00:00,  7.69it/s]\n"
     ]
    },
    {
     "name": "stdout",
     "output_type": "stream",
     "text": [
      "Best Hit Rate is 0.4766734279918864 Best Mean Reciprocal Rank: 0.23597025016903309\n"
     ]
    },
    {
     "name": "stderr",
     "output_type": "stream",
     "text": [
      "Epoch 4 loss=5.96742886: 100%|██████████| 277/277 [00:36<00:00,  7.59it/s]\n"
     ]
    },
    {
     "name": "stdout",
     "output_type": "stream",
     "text": [
      "Best Hit Rate is 0.6247464503042597 Best Mean Reciprocal Rank: 0.23597025016903309\n"
     ]
    },
    {
     "name": "stderr",
     "output_type": "stream",
     "text": [
      "Epoch 5 loss=5.9245193: 100%|██████████| 277/277 [00:36<00:00,  7.50it/s] \n"
     ]
    },
    {
     "name": "stdout",
     "output_type": "stream",
     "text": [
      "Best Hit Rate is 0.6247464503042597 Best Mean Reciprocal Rank: 0.3051836826684697\n"
     ]
    },
    {
     "name": "stderr",
     "output_type": "stream",
     "text": [
      "Epoch 6 loss=5.99805227: 100%|██████████| 277/277 [00:34<00:00,  7.99it/s]\n",
      "Epoch 7 loss=5.99840279: 100%|██████████| 277/277 [00:37<00:00,  7.46it/s]\n",
      "Epoch 8 loss=5.88073338: 100%|██████████| 277/277 [00:37<00:00,  7.37it/s]\n",
      "Epoch 9 loss=5.85212634: 100%|██████████| 277/277 [00:36<00:00,  7.63it/s]\n",
      "Epoch 10 loss=5.90887849: 100%|██████████| 277/277 [00:37<00:00,  7.47it/s]\n"
     ]
    },
    {
     "name": "stdout",
     "output_type": "stream",
     "text": [
      "Best Hit Rate is 0.6247464503042597 Best Mean Reciprocal Rank: 0.37322515212981744\n"
     ]
    },
    {
     "name": "stderr",
     "output_type": "stream",
     "text": [
      "Epoch 11 loss=5.8984336: 100%|██████████| 277/277 [00:34<00:00,  8.06it/s] \n",
      "Epoch 12 loss=5.86667358: 100%|██████████| 277/277 [00:34<00:00,  8.00it/s]\n",
      "Epoch 13 loss=5.91087422: 100%|██████████| 277/277 [00:35<00:00,  7.78it/s]\n",
      "Epoch 14 loss=5.8609178: 100%|██████████| 277/277 [00:35<00:00,  7.82it/s] \n",
      "Epoch 15 loss=5.78831395: 100%|██████████| 277/277 [00:37<00:00,  7.43it/s]\n",
      "Epoch 16 loss=5.92748887: 100%|██████████| 277/277 [00:37<00:00,  7.36it/s]\n",
      "Epoch 17 loss=5.93116655: 100%|██████████| 277/277 [00:34<00:00,  7.93it/s]\n",
      "Epoch 18 loss=5.99176799: 100%|██████████| 277/277 [00:34<00:00,  8.14it/s]\n",
      "Epoch 19 loss=6.04807293: 100%|██████████| 277/277 [00:34<00:00,  8.00it/s]\n",
      "Epoch 20 loss=5.9721305: 100%|██████████| 277/277 [00:34<00:00,  7.93it/s] \n",
      "Epoch 21 loss=5.95664153: 100%|██████████| 277/277 [00:35<00:00,  7.83it/s]\n",
      "Epoch 22 loss=5.8830851: 100%|██████████| 277/277 [00:37<00:00,  7.37it/s] \n",
      "Epoch 23 loss=5.92812818: 100%|██████████| 277/277 [00:37<00:00,  7.38it/s]\n",
      "Epoch 24 loss=5.88570198: 100%|██████████| 277/277 [00:37<00:00,  7.41it/s]\n",
      "Epoch 25 loss=5.92308777: 100%|██████████| 277/277 [00:37<00:00,  7.47it/s]\n",
      "Epoch 26 loss=5.99074352: 100%|██████████| 277/277 [00:37<00:00,  7.48it/s]\n",
      "Epoch 27 loss=5.99927093: 100%|██████████| 277/277 [00:37<00:00,  7.48it/s]\n",
      "Epoch 28 loss=5.91931252: 100%|██████████| 277/277 [00:36<00:00,  7.50it/s]\n",
      "Epoch 29 loss=5.9680313: 100%|██████████| 277/277 [00:37<00:00,  7.48it/s] \n",
      "Epoch 30 loss=5.93359932: 100%|██████████| 277/277 [00:35<00:00,  7.91it/s]\n",
      "Epoch 31 loss=5.92799543: 100%|██████████| 277/277 [00:34<00:00,  7.99it/s]\n",
      "Epoch 32 loss=6.03526798: 100%|██████████| 277/277 [00:34<00:00,  8.06it/s]\n",
      "Epoch 33 loss=6.05564381: 100%|██████████| 277/277 [00:34<00:00,  8.14it/s]\n",
      "Epoch 34 loss=6.01645593: 100%|██████████| 277/277 [00:34<00:00,  8.00it/s]\n",
      "Epoch 35 loss=5.93025155: 100%|██████████| 277/277 [00:33<00:00,  8.17it/s]\n",
      "Epoch 36 loss=5.98062862: 100%|██████████| 277/277 [00:34<00:00,  7.98it/s]\n",
      "Epoch 37 loss=5.94863646: 100%|██████████| 277/277 [00:33<00:00,  8.19it/s]\n",
      "Epoch 38 loss=6.0907019: 100%|██████████| 277/277 [00:34<00:00,  7.99it/s] \n",
      "Epoch 39 loss=5.9835136: 100%|██████████| 277/277 [00:34<00:00,  8.00it/s] \n",
      "Epoch 40 loss=6.01260104: 100%|██████████| 277/277 [00:34<00:00,  8.03it/s]\n",
      "Epoch 41 loss=5.90544316: 100%|██████████| 277/277 [00:34<00:00,  7.95it/s]\n",
      "Epoch 42 loss=5.91764014: 100%|██████████| 277/277 [00:36<00:00,  7.58it/s]\n",
      "Epoch 43 loss=5.91001106: 100%|██████████| 277/277 [00:36<00:00,  7.56it/s]\n",
      "Epoch 44 loss=5.97812165: 100%|██████████| 277/277 [00:36<00:00,  7.64it/s]\n",
      "Epoch 45 loss=5.8857018: 100%|██████████| 277/277 [00:34<00:00,  8.10it/s] \n",
      "Epoch 46 loss=5.88191537: 100%|██████████| 277/277 [00:34<00:00,  8.03it/s]\n",
      "Epoch 47 loss=5.95167075: 100%|██████████| 277/277 [00:33<00:00,  8.20it/s]\n",
      "Epoch 48 loss=5.87891495: 100%|██████████| 277/277 [00:34<00:00,  7.93it/s]\n",
      "Epoch 49 loss=5.94491086: 100%|██████████| 277/277 [00:34<00:00,  8.12it/s]\n",
      "Epoch 50 loss=5.86463365: 100%|██████████| 277/277 [00:34<00:00,  8.14it/s]\n",
      "Epoch 51 loss=5.90599313: 100%|██████████| 277/277 [00:34<00:00,  8.06it/s]\n",
      "Epoch 52 loss=5.91984435: 100%|██████████| 277/277 [00:34<00:00,  8.04it/s]\n",
      "Epoch 53 loss=5.97350165: 100%|██████████| 277/277 [00:33<00:00,  8.25it/s]\n",
      "Epoch 54 loss=5.91088617: 100%|██████████| 277/277 [00:33<00:00,  8.20it/s]\n",
      "Epoch 55 loss=5.91426978: 100%|██████████| 277/277 [00:33<00:00,  8.24it/s]\n"
     ]
    },
    {
     "name": "stdout",
     "output_type": "stream",
     "text": [
      "Best Hit Rate is 0.6247464503042597 Best Mean Reciprocal Rank: 0.513184584178499\n"
     ]
    },
    {
     "name": "stderr",
     "output_type": "stream",
     "text": [
      "Epoch 56 loss=5.84239151: 100%|██████████| 277/277 [00:34<00:00,  8.06it/s]\n",
      "Epoch 57 loss=6.06749964: 100%|██████████| 277/277 [00:33<00:00,  8.24it/s]\n",
      "Epoch 58 loss=5.96647182: 100%|██████████| 277/277 [00:33<00:00,  8.22it/s]\n",
      "Epoch 59 loss=6.0556717: 100%|██████████| 277/277 [00:33<00:00,  8.17it/s] \n",
      "Epoch 60 loss=5.98279814: 100%|██████████| 277/277 [00:34<00:00,  8.00it/s]\n",
      "Epoch 61 loss=6.08089503: 100%|██████████| 277/277 [00:34<00:00,  8.14it/s]\n",
      "Epoch 62 loss=6.01634643: 100%|██████████| 277/277 [00:34<00:00,  7.99it/s]\n",
      "Epoch 63 loss=5.96465374: 100%|██████████| 277/277 [00:34<00:00,  8.14it/s]\n",
      "Epoch 64 loss=5.90158843:  27%|██▋       | 76/277 [00:09<00:25,  7.94it/s]"
     ]
    }
   ],
   "source": [
    "import argparse\n",
    "\n",
    "if __name__ == '__main__':\n",
    "    parser = argparse.ArgumentParser(description='test')\n",
    "    parser.add_argument('--model', type=str, default='MKGNN')\n",
    "    parser.add_argument('--clip_num', type=float, default=0.0)\n",
    "    parser.add_argument('--cuda', type=int, default=2)\n",
    "    parser.add_argument('--order', type=int, default=3)\n",
    "    parser.add_argument('--dp', type=float, default=0.8)\n",
    "    parser.add_argument('--n_hid', type=int, default=64)\n",
    "    parser.add_argument('--use_bias', type=bool, default=True)\n",
    "    parser.add_argument('--top_k', type=int, default=10)\n",
    "    parser.add_argument('--val_prop', type=float, default=0.1)\n",
    "    parser.add_argument('--batch_size', type=int, default=16)\n",
    "    parser.add_argument('--k_job', type=int, default=500)\n",
    "    parser.add_argument('--k_person', type=int, default=1000)\n",
    "    parser.add_argument('--seed', type=int, default=101)\n",
    "    parser.add_argument('--lr', type=float, default=0.001)\n",
    "    parser.add_argument('--n_epoch', type=int, default=10000)\n",
    "    parser.add_argument('--weight_decay', type=float, default=0.0001)\n",
    "    parser.add_argument('--gamma', type=float, default=0.99)\n",
    "    parser.add_argument('--stepsize', type=int, default=1000)\n",
    "    parser.add_argument('--beta_s', type=float, default=0.4)\n",
    "    parser.add_argument('--beta_e', type=float, default=0.9999)\n",
    "    args = parser.parse_args(args=[])\n",
    "    # print('args:', args)\n",
    "    \n",
    "    args.device = torch.device(\"cpu\")\n",
    "    if args.cuda >= 0:\n",
    "        args.device = torch.device(\"cuda:\" + str(args.cuda))\n",
    "    train(args)"
   ]
  },
  {
   "cell_type": "code",
   "execution_count": null,
   "id": "77e68fa6-58a1-44e4-8142-2dc89355a0ed",
   "metadata": {},
   "outputs": [],
   "source": []
  }
 ],
 "metadata": {
  "kernelspec": {
   "display_name": "Python 3 (ipykernel)",
   "language": "python",
   "name": "python3"
  },
  "language_info": {
   "codemirror_mode": {
    "name": "ipython",
    "version": 3
   },
   "file_extension": ".py",
   "mimetype": "text/x-python",
   "name": "python",
   "nbconvert_exporter": "python",
   "pygments_lexer": "ipython3",
   "version": "3.10.13"
  }
 },
 "nbformat": 4,
 "nbformat_minor": 5
}
