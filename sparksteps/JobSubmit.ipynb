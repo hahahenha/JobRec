{
 "cells": [
  {
   "cell_type": "code",
   "execution_count": 1,
   "id": "e44af297-ad54-4abe-8ec9-be0197a95969",
   "metadata": {},
   "outputs": [],
   "source": [
    "path = '/individual/xxxx'\n",
    "start_date = '2023-07-01'\n",
    "end_date = '2024-01-31'\n",
    "city = 'bj'"
   ]
  },
  {
   "cell_type": "code",
   "execution_count": null,
   "id": "68ed9acb-8d17-4f1b-869c-3e0e4bbb531e",
   "metadata": {},
   "outputs": [],
   "source": []
  },
  {
   "cell_type": "code",
   "execution_count": 2,
   "id": "73637005-516a-484f-a8e9-ad1e69d71a8f",
   "metadata": {},
   "outputs": [
    {
     "name": "stdout",
     "output_type": "stream",
     "text": [
      "2024-02-03 15:38:38.559 WARN [spark_job.py:680] SparkJobComponent_logger - \u0001\u0001监测到您的 executor 内存设置较大：24g，此举可能会增加资源调度 Pending 时间，建议您适当调小此值\n",
      "2024-02-03 15:38:38.560 INFO [node_map.py:52] node_map_logger - success to add node: \u001B[1;38;5;21mbja\u001B[0m \n",
      "2024-02-03 15:38:38.605 INFO [graph.py:677] ArsenalGraph_logger - \u0001\u0001开始发布任务\n",
      "2024-02-03 15:38:38.897 INFO [graph.py:599] ArsenalGraph_logger - \u0001\u0001任务提交成功，aflow_name: \u001B[1;38;5;21mlab-14-magic-8rpuuu\u001B[0m \n",
      "2024-02-03 15:38:38.898 INFO [graph.py:679] ArsenalGraph_logger - \u0001\u0001任务发布成功\n"
     ]
    }
   ],
   "source": [
    "magic_cmd20 = f\"\"\"\n",
    "%%spark_job run \n",
    "--kind python  \n",
    "--filepath {path}/presteps/1.py\n",
    "--args {start_date} {end_date} {path} {city}\n",
    "--executor_cnt 120\n",
    "--executor_cpu 12\n",
    "--executor_memory 24g\n",
    "--driver_memory 32g\n",
    "--driver_cpu 12\n",
    "--image harbor.xxx.com/business-pro/webide-image-lab-14:xxx_mirror1-v1.2\n",
    "--proxy_user xxxxxxxxxxxxxxxxxxxxxx\n",
    "--spark_conf spark.kryoserializer.buffer.max:2047m,spark.driver.maxResultSize:30g\n",
    "--pending_wait_time 30min\n",
    "\"\"\"\n",
    "define_node(f\"{city}a\", magic_cmd=magic_cmd20, is_overwrite=True)\n",
    "exec_node(f\"{city}a\", description=f\"{city}a\")"
   ]
  },
  {
   "cell_type": "code",
   "execution_count": 3,
   "id": "604b8688-4deb-466b-aef4-1215499055ff",
   "metadata": {},
   "outputs": [
    {
     "name": "stdout",
     "output_type": "stream",
     "text": [
      "2024-02-03 15:38:39.202 WARN [spark_job.py:680] SparkJobComponent_logger - \u0001\u0001监测到您的 executor 内存设置较大：24g，此举可能会增加资源调度 Pending 时间，建议您适当调小此值\n",
      "2024-02-03 15:38:39.203 INFO [node_map.py:52] node_map_logger - success to add node: \u001B[1;38;5;21mbjb\u001B[0m \n",
      "2024-02-03 15:38:39.223 INFO [graph.py:677] ArsenalGraph_logger - \u0001\u0001开始发布任务\n",
      "2024-02-03 15:38:39.426 INFO [graph.py:599] ArsenalGraph_logger - \u0001\u0001任务提交成功，aflow_name: \u001B[1;38;5;21mlab-14-magic-i33noi\u001B[0m \n",
      "2024-02-03 15:38:39.427 INFO [graph.py:679] ArsenalGraph_logger - \u0001\u0001任务发布成功\n"
     ]
    }
   ],
   "source": [
    "magic_cmd21 = f\"\"\"\n",
    "%%spark_job run \n",
    "--kind python  \n",
    "--filepath {path}/presteps/2.py\n",
    "--args {start_date} {end_date} {path} {city}\n",
    "--executor_cnt 120\n",
    "--executor_cpu 12\n",
    "--executor_memory 24g\n",
    "--driver_memory 32g\n",
    "--driver_cpu 12\n",
    "--image harbor.xxx.com/business-pro/webide-image-lab-14:xxx_mirror1-v1.2\n",
    "--proxy_user xxxxxxxxxxxxxxxxxxxxxx\n",
    "--spark_conf spark.kryoserializer.buffer.max:2047m,spark.driver.maxResultSize:30g\n",
    "--pending_wait_time 30min\n",
    "\"\"\"\n",
    "define_node(f\"{city}b\", magic_cmd=magic_cmd21, is_overwrite=True)\n",
    "exec_node(f\"{city}b\", description=f\"{city}b\")"
   ]
  },
  {
   "cell_type": "code",
   "execution_count": 4,
   "id": "f23488ca-3048-4452-8805-b94c00422b1c",
   "metadata": {},
   "outputs": [
    {
     "name": "stdout",
     "output_type": "stream",
     "text": [
      "2024-02-03 12:52:14.849 INFO [node_map.py:52] node_map_logger - success to add node: \u001B[1;38;5;21mbjc\u001B[0m \n",
      "2024-02-03 12:52:14.868 INFO [graph.py:677] ArsenalGraph_logger - \u0001\u0001开始发布任务\n",
      "2024-02-03 12:52:15.135 INFO [graph.py:599] ArsenalGraph_logger - \u0001\u0001任务提交成功，aflow_name: \u001B[1;38;5;21mlab-14-magic-dvcn4m\u001B[0m \n",
      "2024-02-03 12:52:15.136 INFO [graph.py:679] ArsenalGraph_logger - \u0001\u0001任务发布成功\n"
     ]
    }
   ],
   "source": [
    "magic_cmd22 = f\"\"\"\n",
    "%%spark_job run \n",
    "--kind python  \n",
    "--filepath {path}/presteps/3.py\n",
    "--args {start_date} {end_date} {path} {city}\n",
    "--executor_cnt 80\n",
    "--executor_cpu 8\n",
    "--executor_memory 16g\n",
    "--driver_memory 12g\n",
    "--driver_cpu 8\n",
    "--image harbor.xxx.com/business-pro/webide-image-lab-14:xxx_mirror1-v1.2\n",
    "--proxy_user xxxxxxxxxxxxxxxxxxxxxx\n",
    "--spark_conf spark.kryoserializer.buffer.max:2047m,spark.driver.maxResultSize:10g\n",
    "--pending_wait_time 30min\n",
    "\"\"\"\n",
    "define_node(f\"{city}c\", magic_cmd=magic_cmd22, is_overwrite=True)\n",
    "exec_node(f\"{city}c\", description=f\"{city}c\")"
   ]
  },
  {
   "cell_type": "code",
   "execution_count": 5,
   "id": "cbb80188-7b7a-4b2f-bb3a-d7cedb3142a0",
   "metadata": {},
   "outputs": [
    {
     "name": "stdout",
     "output_type": "stream",
     "text": [
      "2024-02-03 12:57:00.990 INFO [node_map.py:52] node_map_logger - success to add node: \u001B[1;38;5;21mbjd\u001B[0m \n",
      "2024-02-03 12:57:01.008 INFO [graph.py:677] ArsenalGraph_logger - \u0001\u0001开始发布任务\n",
      "2024-02-03 12:57:01.271 INFO [graph.py:599] ArsenalGraph_logger - \u0001\u0001任务提交成功，aflow_name: \u001B[1;38;5;21mlab-14-magic-q1eynt\u001B[0m \n",
      "2024-02-03 12:57:01.272 INFO [graph.py:679] ArsenalGraph_logger - \u0001\u0001任务发布成功\n"
     ]
    }
   ],
   "source": [
    "magic_cmd23 = f\"\"\"\n",
    "%%spark_job run \n",
    "--kind python  \n",
    "--filepath {path}/presteps/4.py\n",
    "--args {start_date} {end_date} {path} {city}\n",
    "--executor_cnt 40\n",
    "--executor_cpu 8\n",
    "--executor_memory 16g\n",
    "--driver_memory 12g\n",
    "--driver_cpu 8\n",
    "--image harbor.xxx.com/business-pro/webide-image-lab-14:xxx_mirror1-v1.2\n",
    "--proxy_user xxxxxxxxxxxxxxxxxxxxxx\n",
    "--spark_conf spark.kryoserializer.buffer.max:2047m,spark.driver.maxResultSize:10g\n",
    "--pending_wait_time 30min\n",
    "\"\"\"\n",
    "define_node(f\"{city}d\", magic_cmd=magic_cmd23, is_overwrite=True)\n",
    "exec_node(f\"{city}d\", description=f\"{city}d\")"
   ]
  },
  {
   "cell_type": "code",
   "execution_count": 8,
   "id": "8ea51316-5395-443f-b02d-5d4546a1cfb4",
   "metadata": {},
   "outputs": [
    {
     "name": "stdout",
     "output_type": "stream",
     "text": [
      "2024-02-03 13:07:11.905 WARN [node_map.py:46] node_map_logger - \u001B[1;38;5;160mthe node name: bje has been defined, will be overwrite the node.\u001B[0m \n",
      "2024-02-03 13:07:11.906 INFO [node_map.py:52] node_map_logger - success to add node: \u001B[1;38;5;21mbje\u001B[0m \n",
      "2024-02-03 13:07:11.924 INFO [graph.py:677] ArsenalGraph_logger - \u0001\u0001开始发布任务\n",
      "2024-02-03 13:07:12.200 INFO [graph.py:599] ArsenalGraph_logger - \u0001\u0001任务提交成功，aflow_name: \u001B[1;38;5;21mlab-14-magic-mjfxqx\u001B[0m \n",
      "2024-02-03 13:07:12.201 INFO [graph.py:679] ArsenalGraph_logger - \u0001\u0001任务发布成功\n"
     ]
    }
   ],
   "source": [
    "magic_cmd24 = f\"\"\"\n",
    "%%spark_job run \n",
    "--kind python  \n",
    "--filepath {path}/presteps/5.py\n",
    "--args {start_date} {end_date} {path} {city}\n",
    "--executor_cnt 20\n",
    "--executor_cpu 4\n",
    "--executor_memory 16g\n",
    "--driver_memory 12g\n",
    "--driver_cpu 4\n",
    "--image harbor.xxx.com/business-pro/webide-image-lab-14:xxx_mirror1-v1.2\n",
    "--proxy_user xxxxxxxxxxxxxxxxxxxxxx\n",
    "--spark_conf spark.kryoserializer.buffer.max:2047m,spark.driver.maxResultSize:10g\n",
    "--pending_wait_time 30min\n",
    "\"\"\"\n",
    "define_node(f\"{city}e\", magic_cmd=magic_cmd24, is_overwrite=True)\n",
    "exec_node(f\"{city}e\", description=f\"{city}e\")"
   ]
  },
  {
   "cell_type": "code",
   "execution_count": 10,
   "id": "c2f900f1-a367-4b79-b777-f4b0afbe1354",
   "metadata": {},
   "outputs": [
    {
     "name": "stdout",
     "output_type": "stream",
     "text": [
      "2024-02-03 13:10:21.264 WARN [node_map.py:46] node_map_logger - \u001B[1;38;5;160mthe node name: bjf has been defined, will be overwrite the node.\u001B[0m \n",
      "2024-02-03 13:10:21.265 INFO [node_map.py:52] node_map_logger - success to add node: \u001B[1;38;5;21mbjf\u001B[0m \n",
      "2024-02-03 13:10:21.284 INFO [graph.py:677] ArsenalGraph_logger - \u0001\u0001开始发布任务\n",
      "2024-02-03 13:10:21.542 INFO [graph.py:599] ArsenalGraph_logger - \u0001\u0001任务提交成功，aflow_name: \u001B[1;38;5;21mlab-14-magic-cpfv1j\u001B[0m \n",
      "2024-02-03 13:10:21.542 INFO [graph.py:679] ArsenalGraph_logger - \u0001\u0001任务发布成功\n"
     ]
    }
   ],
   "source": [
    "magic_cmd25 = f\"\"\"\n",
    "%%spark_job run \n",
    "--kind python  \n",
    "--filepath {path}/presteps/6.py\n",
    "--args {start_date} {end_date} {path} {city}\n",
    "--executor_cnt 20\n",
    "--executor_cpu 4\n",
    "--executor_memory 16g\n",
    "--driver_memory 12g\n",
    "--driver_cpu 4\n",
    "--image harbor.xxx.com/business-pro/webide-image-lab-14:xxx_mirror1-v1.2\n",
    "--proxy_user xxxxxxxxxxxxxxxxxxxxxx\n",
    "--spark_conf spark.kryoserializer.buffer.max:2047m,spark.driver.maxResultSize:10g\n",
    "--pending_wait_time 30min\n",
    "\"\"\"\n",
    "define_node(f\"{city}f\", magic_cmd=magic_cmd25, is_overwrite=True)\n",
    "exec_node(f\"{city}f\", description=f\"{city}f\")"
   ]
  },
  {
   "cell_type": "code",
   "execution_count": null,
   "id": "493174e4-432b-4431-807e-9e1a1f4c4f54",
   "metadata": {},
   "outputs": [],
   "source": []
  }
 ],
 "metadata": {
  "kernelspec": {
   "display_name": "Python 3 (ipykernel)",
   "language": "python",
   "name": "python3"
  },
  "language_info": {
   "codemirror_mode": {
    "name": "ipython",
    "version": 3
   },
   "file_extension": ".py",
   "mimetype": "text/x-python",
   "name": "python",
   "nbconvert_exporter": "python",
   "pygments_lexer": "ipython3",
   "version": "3.8.13"
  }
 },
 "nbformat": 4,
 "nbformat_minor": 5
}
